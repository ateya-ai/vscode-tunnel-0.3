{
    "cells": [
     {
      "cell_type": "markdown",
      "metadata": {},
      "source": [
       "# Use Spark\n",
       "\n",
       "* directly use `spark` global\n",
       "* Spark through Databricks Connect (just like in shared clusters)\n",
       "* set breakpoints and use step debugging"
      ]
     },
     {
      "cell_type": "code",
      "execution_count": null,
      "metadata": {},
      "outputs": [],
      "source": [
       "df = spark.table(\"samples.nyctaxi.trips\")\n",
       "\n",
       "display(df.limit(10))"
      ]
     },
     {
      "cell_type": "markdown",
      "metadata": {},
      "source": [
       "# DBUtils\n",
       "\n",
       "* Supports common subset of DBUtils features\n",
       "  * `dbutils.fs`\n",
       "  * `dbutils.secrets`"
      ]
     },
     {
      "cell_type": "code",
      "execution_count": null,
      "metadata": {},
      "outputs": [],
      "source": [
       "print(\"Files:\")\n",
       "for file in dbutils.fs.ls(\"/\")[:5]:\n",
       "    print(file.path)\n",
       "\n",
       "print()\n",
       "print(\"Secret Scopes\")\n",
       "for scope in dbutils.secrets.listScopes()[:5]:\n",
       "    print(scope.name)"
      ]
     },
     {
      "cell_type": "markdown",
      "metadata": {},
      "source": [
       "# SQL\n",
       "\n",
       "Execute SQL using `%sql`"
      ]
     },
     {
      "cell_type": "code",
      "execution_count": null,
      "metadata": {
       "vscode": {
        "languageId": "sql"
       }
      },
      "outputs": [],
      "source": [
       "%sql\n",
       "\n",
       "select * from samples.nyctaxi.trips limit 10"
      ]
     },
     {
      "cell_type": "markdown",
      "metadata": {},
      "source": [
       "# GPUs (MLR only)\n",
       "\n",
       "* Leverage GPUs\n",
       "* Use ML libraries such as `pytorch` from ML Runtimes"
      ]
     },
     {
      "cell_type": "code",
      "execution_count": null,
      "metadata": {},
      "outputs": [],
      "source": [
       "import torch\n",
       "for i in range(torch.cuda.device_count()):\n",
       "   print(torch.cuda.get_device_properties(i).name)"
      ]
     }
    ],
    "metadata": {
     "kernelspec": {
      "display_name": "pythonEnv-bea1ee52-5030-4e6d-a542-e3495d74414d",
      "language": "python",
      "name": "python3"
     },
     "language_info": {
      "codemirror_mode": {
       "name": "ipython",
       "version": 3
      },
      "file_extension": ".py",
      "mimetype": "text/x-python",
      "name": "python",
      "nbconvert_exporter": "python",
      "pygments_lexer": "ipython3",
      "version": "3.11.0rc1"
     }
    },
    "nbformat": 4,
    "nbformat_minor": 2
   }
   